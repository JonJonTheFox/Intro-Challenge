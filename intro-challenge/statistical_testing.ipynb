{
 "cells": [
  {
   "cell_type": "code",
   "execution_count": 53,
   "metadata": {},
   "outputs": [],
   "source": [
    "import pandas as pd\n",
    "import numpy as np\n",
    "aorta_df = pd.read_csv('aortaP_train_data.csv').drop('Unnamed: 0', axis = 1)\n",
    "brachial_df = pd.read_csv('brachP_train_data.csv').drop('Unnamed: 0', axis = 1)"
   ]
  },
  {
   "cell_type": "code",
   "execution_count": 54,
   "metadata": {},
   "outputs": [
    {
     "name": "stdout",
     "output_type": "stream",
     "text": [
      "Aorta Dataset - Total NaNs after KNN imputation: 0\n",
      "Brachial Dataset - Total NaNs after KNN imputation: 0\n"
     ]
    }
   ],
   "source": [
    "from sklearn.impute import KNNImputer\n",
    "\n",
    "def handle_nans_knn(df, dataset_name, n_neighbors=5):\n",
    "    # Create a KNN imputer instance with specified number of neighbors\n",
    "    knn_imputer = KNNImputer(n_neighbors=n_neighbors)\n",
    "\n",
    "    # Perform the imputation\n",
    "    df_imputed = pd.DataFrame(knn_imputer.fit_transform(df), columns=df.columns)\n",
    "\n",
    "    # Count the number of NaNs after imputation to verify\n",
    "    nan_count_after = df_imputed.isna().sum().sum()\n",
    "    print(f\"{dataset_name} - Total NaNs after KNN imputation: {nan_count_after}\")\n",
    "\n",
    "    return df_imputed\n",
    "\n",
    "aorta_df = handle_nans_knn(aorta_df, 'Aorta Dataset')\n",
    "brachial_df = handle_nans_knn(brachial_df, 'Brachial Dataset')"
   ]
  },
  {
   "cell_type": "code",
   "execution_count": 57,
   "metadata": {},
   "outputs": [],
   "source": [
    "aorta_df['median'] = aorta_df.iloc[:, :336].median(axis=1)\n",
    "brachial_df['median'] = aorta_df.iloc[:, :336].median(axis=1)"
   ]
  },
  {
   "cell_type": "code",
   "execution_count": 72,
   "metadata": {},
   "outputs": [
    {
     "name": "stdout",
     "output_type": "stream",
     "text": [
      "T-statistic: -8.9357\n",
      "P-value: 0.0000\n",
      "Reject the null hypothesis: The means are significantly different.\n"
     ]
    }
   ],
   "source": [
    "from scipy.stats import ttest_ind\n",
    "\n",
    "def aorta_two_sample_test(group1, group2):\n",
    "    aorta_sample_1 = aorta_df[aorta_df['target'] == group1]['median']\n",
    "    aorta_sample_2 = aorta_df[aorta_df['target'] == group2]['median']\n",
    "    t_stat, p_value = ttest_ind(aorta_sample_1, aorta_sample_2)\n",
    "\n",
    "    print(f\"T-statistic: {t_stat:.4f}\")\n",
    "    print(f\"P-value: {p_value:.4f}\")\n",
    "\n",
    "    if p_value < 0.05:\n",
    "        print(\"Reject the null hypothesis: The means are significantly different.\")\n",
    "    else:\n",
    "        print(\"Fail to reject the null hypothesis: No significant difference in means.\")\n",
    "\n",
    "def brachial_df_two_sample_test(group1, group2):\n",
    "    aorta_sample_1 = aorta_df[brachial_df['target'] == group1]['median']\n",
    "    aorta_sample_2 = aorta_df[brachial_df['target'] == group2]['median']\n",
    "    t_stat, p_value = ttest_ind(aorta_sample_1, aorta_sample_2)\n",
    "\n",
    "    print(f\"T-statistic: {t_stat:.4f}\")\n",
    "    print(f\"P-value: {p_value:.4f}\")\n",
    "\n",
    "    if p_value < 0.05:\n",
    "        print(\"Reject the null hypothesis: The means are significantly different.\")\n",
    "    else:\n",
    "        print(\"Fail to reject the null hypothesis: No significant difference in means.\")\n",
    "\n",
    "brachial_df_two_sample_test(1,2)"
   ]
  }
 ],
 "metadata": {
  "kernelspec": {
   "display_name": "Python 3",
   "language": "python",
   "name": "python3"
  },
  "language_info": {
   "codemirror_mode": {
    "name": "ipython",
    "version": 3
   },
   "file_extension": ".py",
   "mimetype": "text/x-python",
   "name": "python",
   "nbconvert_exporter": "python",
   "pygments_lexer": "ipython3",
   "version": "3.12.5"
  }
 },
 "nbformat": 4,
 "nbformat_minor": 2
}
